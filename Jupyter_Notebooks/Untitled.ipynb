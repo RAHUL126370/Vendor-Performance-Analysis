{
 "cells": [
  {
   "cell_type": "code",
   "execution_count": 18,
   "id": "4a72d507",
   "metadata": {},
   "outputs": [],
   "source": [
    "import pandas as pd\n",
    "import os\n",
    "from sqlalchemy import create_engine\n",
    "import logging\n",
    "import time\n",
    "\n",
    "# Ensure 'logs' directory exists\n",
    "os.makedirs(\"logs\", exist_ok=True)\n",
    "\n",
    "# set up logging\n",
    "logging.basicConfig(\n",
    "    filename=\"logs/ingestion_db.log\", \n",
    "    level=logging.DEBUG, \n",
    "    format=\"%(asctime)s - %(levelname)s - %(message)s\", \n",
    "    filemode=\"a\"\n",
    ")\n",
    "\n",
    "engine = create_engine('sqlite:///inventory.db')\n",
    "\n",
    "'''This function will ingest the data into database table.'''\n",
    "def ingest_db(df, table_name, engine):\n",
    "    df.to_sql(table_name, con = engine, if_exists = 'replace', index = False)\n",
    "\n",
    "    \n",
    "'''This function load the CSVs in dataframe and Ingest into db.'''\n",
    "\n",
    "def load_raw_data():\n",
    "    start= time.time()\n",
    "    folder_path = r'C:\\Users\\Rahul\\DATA'\n",
    "    for file in os.listdir(folder_path):\n",
    "        if '.csv' in file:\n",
    "            file_path = os.path.join(folder_path, file)\n",
    "            df = pd.read_csv(file_path)\n",
    "            logging.info(f'Ingesting {file} in db')\n",
    "            ingest_db(df, file[:-4], engine)\n",
    "    end=time.time()\n",
    "    total_time= (end - start)/60\n",
    "    logging.info('---Ingestion Complete---')\n",
    "    \n",
    "    logging.info(f'Total Time taken: {total_time} minutes.')\n",
    "    \n",
    "if __name__=='__main__':\n",
    "    load_raw_data()"
   ]
  },
  {
   "cell_type": "code",
   "execution_count": 8,
   "id": "21e43297",
   "metadata": {},
   "outputs": [],
   "source": []
  },
  {
   "cell_type": "code",
   "execution_count": null,
   "id": "8abba3bf",
   "metadata": {},
   "outputs": [],
   "source": []
  }
 ],
 "metadata": {
  "kernelspec": {
   "display_name": "Python 3 (ipykernel)",
   "language": "python",
   "name": "python3"
  },
  "language_info": {
   "codemirror_mode": {
    "name": "ipython",
    "version": 3
   },
   "file_extension": ".py",
   "mimetype": "text/x-python",
   "name": "python",
   "nbconvert_exporter": "python",
   "pygments_lexer": "ipython3",
   "version": "3.10.9"
  }
 },
 "nbformat": 4,
 "nbformat_minor": 5
}
